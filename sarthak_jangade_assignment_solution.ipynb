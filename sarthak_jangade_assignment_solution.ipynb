{
 "cells": [
  {
   "cell_type": "markdown",
   "metadata": {},
   "source": []
  },
  {
   "cell_type": "code",
   "execution_count": 78,
   "metadata": {},
   "outputs": [],
   "source": [
    "#import the libraries\n",
    "import pandas as pd\n",
    "import numpy as np\n",
    "import seaborn as sns\n",
    "import matplotlib.pyplot as plt\n",
    "import scipy.stats"
   ]
  },
  {
   "cell_type": "code",
   "execution_count": 1,
   "metadata": {},
   "outputs": [
    {
     "name": "stdout",
     "output_type": "stream",
     "text": [
      "(150, 4)\n",
      "[0 0 0 0 0 0 0 0 0 0 0 0 0 0 0 0 0 0 0 0 0 0 0 0 0 0 0 0 0 0 0 0 0 0 0 0 0\n",
      " 0 0 0 0 0 0 0 0 0 0 0 0 0 1 1 1 1 1 1 1 1 1 1 1 1 1 1 1 1 1 1 1 1 1 1 1 1\n",
      " 1 1 1 1 1 1 1 1 1 1 1 1 1 1 1 1 1 1 1 1 1 1 1 1 1 1 2 2 2 2 2 2 2 2 2 2 2\n",
      " 2 2 2 2 2 2 2 2 2 2 2 2 2 2 2 2 2 2 2 2 2 2 2 2 2 2 2 2 2 2 2 2 2 2 2 2 2\n",
      " 2 2]\n",
      "['sepal length (cm)', 'sepal width (cm)', 'petal length (cm)', 'petal width (cm)']\n"
     ]
    }
   ],
   "source": [
    "from sklearn.datasets import load_iris    \n",
    "\n",
    "iris = load_iris()\n",
    "\n",
    "print(iris.data.shape) # prints the shape of the data (number of samples, number of features)\n",
    "print(iris.target) # prints the target labels\n",
    "print(iris.feature_names) # prints the feature names\n"
   ]
  },
  {
   "cell_type": "code",
   "execution_count": 4,
   "metadata": {},
   "outputs": [
    {
     "name": "stdout",
     "output_type": "stream",
     "text": [
      "   sepal_length  sepal_width  petal_length  petal_width       target\n",
      "0           5.1          3.5           1.4          0.2  Iris-setosa\n",
      "1           4.9          3.0           1.4          0.2  Iris-setosa\n",
      "2           4.7          3.2           1.3          0.2  Iris-setosa\n",
      "3           4.6          3.1           1.5          0.2  Iris-setosa\n",
      "4           5.0          3.6           1.4          0.2  Iris-setosa\n"
     ]
    }
   ],
   "source": [
    "url = \"https://archive.ics.uci.edu/ml/machine-learning-databases/iris/iris.data\"\n",
    "names = ['sepal_length', 'sepal_width', 'petal_length', 'petal_width', 'target']\n",
    "\n",
    "iris_data = pd.read_csv(url, names=names)\n",
    "\n",
    "print(iris_data.head())"
   ]
  },
  {
   "cell_type": "markdown",
   "metadata": {},
   "source": [
    "Checking for missing values in the dataset\n"
   ]
  },
  {
   "cell_type": "code",
   "execution_count": 5,
   "metadata": {},
   "outputs": [
    {
     "name": "stdout",
     "output_type": "stream",
     "text": [
      "Dataframe after handling missing values:\n",
      "     sepal_length  sepal_width  petal_length  petal_width          target\n",
      "0             5.1          3.5           1.4          0.2     Iris-setosa\n",
      "1             4.9          3.0           1.4          0.2     Iris-setosa\n",
      "2             4.7          3.2           1.3          0.2     Iris-setosa\n",
      "3             4.6          3.1           1.5          0.2     Iris-setosa\n",
      "4             5.0          3.6           1.4          0.2     Iris-setosa\n",
      "..            ...          ...           ...          ...             ...\n",
      "145           6.7          3.0           5.2          2.3  Iris-virginica\n",
      "146           6.3          2.5           5.0          1.9  Iris-virginica\n",
      "147           6.5          3.0           5.2          2.0  Iris-virginica\n",
      "148           6.2          3.4           5.4          2.3  Iris-virginica\n",
      "149           5.9          3.0           5.1          1.8  Iris-virginica\n",
      "\n",
      "[150 rows x 5 columns]\n"
     ]
    }
   ],
   "source": [
    "import pandas as pd\n",
    "\n",
    "\n",
    "def handle_missing_values(iris_data):\n",
    "  \"\"\"\n",
    "  Checks for missing values in a pandas DataFrame and handles them using different strategies.\n",
    "\n",
    "  Args:\n",
    "    df: A pandas DataFrame.\n",
    "\n",
    "  Returns:\n",
    "    A pandas DataFrame with missing values handled.\n",
    "  \"\"\"\n",
    "\n",
    "  # Check for missing values\n",
    "  missing_values_count = iris_data.isnull().sum()\n",
    "  if any(missing_values_count):\n",
    "    print(\"Missing values found:\")\n",
    "    print(missing_values_count)\n",
    "\n",
    "    # Handle missing values based on the feature and its type\n",
    "    for col in df.columns:\n",
    "      if missing_values_count[col] > 0:\n",
    "        # Impute numerical features with mean or median\n",
    "        if pd.api.types.is_numeric_dtype(iris_data[col]):\n",
    "          if missing_values_count[col] / len(iris_data) < 0.5:\n",
    "            iris_data[col] = iris_data[col].fillna(iris_data[col].mean())\n",
    "          else:\n",
    "            iris_data[col] = iris_data[col].fillna(iris_data[col].median())\n",
    "\n",
    "        # Drop rows with missing categorical features if they are a small percentage\n",
    "        elif pd.api.types.is_categorical_dtype(iris_data[col]):\n",
    "          if missing_values_count[col] / len(iris_data) < 0.1:\n",
    "            iris_data.dropna(subset=[col], inplace=True)\n",
    "          else:\n",
    "            print(f\"Warning: Dropping rows with missing values in '{col}' due to high percentage ({missing_values_count[col] / len(df)})\")\n",
    "            iris_data.dropna(subset=[col], inplace=True)\n",
    "\n",
    "  return iris_data\n",
    "\n",
    "\n",
    "# Example usage\n",
    "df = pd.DataFrame({\n",
    "  \"col1\": [1, 2, None, 4],\n",
    "  \"col2\": [\"a\", \"b\", \"c\", None],\n",
    "  \"col3\": [10, 20, 30, None],\n",
    "})\n",
    "\n",
    "iris_data= handle_missing_values(iris_data.copy())\n",
    "\n",
    "print(\"Dataframe after handling missing values:\")\n",
    "print(iris_data)\n",
    "\n"
   ]
  },
  {
   "cell_type": "markdown",
   "metadata": {},
   "source": [
    "Saving the dataset into csv file"
   ]
  },
  {
   "cell_type": "code",
   "execution_count": 7,
   "metadata": {},
   "outputs": [
    {
     "name": "stdout",
     "output_type": "stream",
     "text": [
      "Iris data and target labels saved successfully!\n"
     ]
    }
   ],
   "source": [
    "# Save the data and target labels to separate files\n",
    "np.savetxt(\"iris_data.csv\", iris.data, delimiter=\",\")\n",
    "np.savetxt(\"iris_target.csv\", iris.target, delimiter=\",\")\n",
    "\n",
    "print(\"Iris data and target labels saved successfully!\")\n"
   ]
  },
  {
   "cell_type": "markdown",
   "metadata": {},
   "source": [
    "Display summary statistics (mean, median, min, max, etc.) for\n",
    "numerical columns."
   ]
  },
  {
   "cell_type": "code",
   "execution_count": 8,
   "metadata": {},
   "outputs": [
    {
     "data": {
      "text/html": [
       "<div>\n",
       "<style scoped>\n",
       "    .dataframe tbody tr th:only-of-type {\n",
       "        vertical-align: middle;\n",
       "    }\n",
       "\n",
       "    .dataframe tbody tr th {\n",
       "        vertical-align: top;\n",
       "    }\n",
       "\n",
       "    .dataframe thead th {\n",
       "        text-align: right;\n",
       "    }\n",
       "</style>\n",
       "<table border=\"1\" class=\"dataframe\">\n",
       "  <thead>\n",
       "    <tr style=\"text-align: right;\">\n",
       "      <th></th>\n",
       "      <th>sepal_length</th>\n",
       "      <th>sepal_width</th>\n",
       "      <th>petal_length</th>\n",
       "      <th>petal_width</th>\n",
       "    </tr>\n",
       "  </thead>\n",
       "  <tbody>\n",
       "    <tr>\n",
       "      <th>count</th>\n",
       "      <td>150.000000</td>\n",
       "      <td>150.000000</td>\n",
       "      <td>150.000000</td>\n",
       "      <td>150.000000</td>\n",
       "    </tr>\n",
       "    <tr>\n",
       "      <th>mean</th>\n",
       "      <td>5.843333</td>\n",
       "      <td>3.054000</td>\n",
       "      <td>3.758667</td>\n",
       "      <td>1.198667</td>\n",
       "    </tr>\n",
       "    <tr>\n",
       "      <th>std</th>\n",
       "      <td>0.828066</td>\n",
       "      <td>0.433594</td>\n",
       "      <td>1.764420</td>\n",
       "      <td>0.763161</td>\n",
       "    </tr>\n",
       "    <tr>\n",
       "      <th>min</th>\n",
       "      <td>4.300000</td>\n",
       "      <td>2.000000</td>\n",
       "      <td>1.000000</td>\n",
       "      <td>0.100000</td>\n",
       "    </tr>\n",
       "    <tr>\n",
       "      <th>25%</th>\n",
       "      <td>5.100000</td>\n",
       "      <td>2.800000</td>\n",
       "      <td>1.600000</td>\n",
       "      <td>0.300000</td>\n",
       "    </tr>\n",
       "    <tr>\n",
       "      <th>50%</th>\n",
       "      <td>5.800000</td>\n",
       "      <td>3.000000</td>\n",
       "      <td>4.350000</td>\n",
       "      <td>1.300000</td>\n",
       "    </tr>\n",
       "    <tr>\n",
       "      <th>75%</th>\n",
       "      <td>6.400000</td>\n",
       "      <td>3.300000</td>\n",
       "      <td>5.100000</td>\n",
       "      <td>1.800000</td>\n",
       "    </tr>\n",
       "    <tr>\n",
       "      <th>max</th>\n",
       "      <td>7.900000</td>\n",
       "      <td>4.400000</td>\n",
       "      <td>6.900000</td>\n",
       "      <td>2.500000</td>\n",
       "    </tr>\n",
       "  </tbody>\n",
       "</table>\n",
       "</div>"
      ],
      "text/plain": [
       "       sepal_length  sepal_width  petal_length  petal_width\n",
       "count    150.000000   150.000000    150.000000   150.000000\n",
       "mean       5.843333     3.054000      3.758667     1.198667\n",
       "std        0.828066     0.433594      1.764420     0.763161\n",
       "min        4.300000     2.000000      1.000000     0.100000\n",
       "25%        5.100000     2.800000      1.600000     0.300000\n",
       "50%        5.800000     3.000000      4.350000     1.300000\n",
       "75%        6.400000     3.300000      5.100000     1.800000\n",
       "max        7.900000     4.400000      6.900000     2.500000"
      ]
     },
     "execution_count": 8,
     "metadata": {},
     "output_type": "execute_result"
    }
   ],
   "source": [
    "iris_data.describe()"
   ]
  },
  {
   "cell_type": "markdown",
   "metadata": {},
   "source": [
    "Data Visualization"
   ]
  },
  {
   "cell_type": "code",
   "execution_count": 11,
   "metadata": {},
   "outputs": [
    {
     "data": {
      "image/png": "[encoded data removed]",
      "text/plain": [
       "<Figure size 640x480 with 1 Axes>"
      ]
     },
     "metadata": {},
     "output_type": "display_data"
    }
   ],
   "source": [
    "# Create a histogram for Petal Length\n",
    "sns.histplot(x=\"petal_length\", data=iris_data)\n",
    "plt.xlabel(\"Petal Length (cm)\")\n",
    "plt.ylabel(\"Count\")\n",
    "plt.title(\"Distribution of Petal Length in Iris Dataset\")\n",
    "plt.show()"
   ]
  },
  {
   "cell_type": "code",
   "execution_count": 19,
   "metadata": {},
   "outputs": [
    {
     "data": {
      "image/png": "[encoded data removed]",
      "text/plain": [
       "<Figure size 640x480 with 1 Axes>"
      ]
     },
     "metadata": {},
     "output_type": "display_data"
    }
   ],
   "source": [
    "sns.countplot(x=\"target\", data=iris_data)\n",
    "plt.xlabel(\"Target types\")\n",
    "plt.ylabel(\"Count\")\n",
    "plt.title(\"Distribution of Iris Target\")\n",
    "plt.show()\n"
   ]
  },
  {
   "cell_type": "code",
   "execution_count": 21,
   "metadata": {},
   "outputs": [
    {
     "data": {
      "image/png": "[encoded data removed]",
      "text/plain": [
       "<Figure size 640x480 with 1 Axes>"
      ]
     },
     "metadata": {},
     "output_type": "display_data"
    }
   ],
   "source": [
    "sns.scatterplot(x=\"petal_length\", y=\"petal_width\", data=iris_data)\n",
    "plt.xlabel(\"Petal Length (cm)\")\n",
    "plt.ylabel(\"Petal Width (cm)\")\n",
    "plt.title(\"Scatter Plot of Petal Length vs. Petal Width\")\n",
    "plt.show()"
   ]
  },
  {
   "cell_type": "markdown",
   "metadata": {},
   "source": [
    "Data Filtering with some condition"
   ]
  },
  {
   "cell_type": "code",
   "execution_count": 22,
   "metadata": {},
   "outputs": [
    {
     "name": "stdout",
     "output_type": "stream",
     "text": [
      "     sepal_length  sepal_width  petal_length  petal_width           target\n",
      "50            7.0          3.2           4.7          1.4  Iris-versicolor\n",
      "51            6.4          3.2           4.5          1.5  Iris-versicolor\n",
      "52            6.9          3.1           4.9          1.5  Iris-versicolor\n",
      "53            5.5          2.3           4.0          1.3  Iris-versicolor\n",
      "54            6.5          2.8           4.6          1.5  Iris-versicolor\n",
      "..            ...          ...           ...          ...              ...\n",
      "145           6.7          3.0           5.2          2.3   Iris-virginica\n",
      "146           6.3          2.5           5.0          1.9   Iris-virginica\n",
      "147           6.5          3.0           5.2          2.0   Iris-virginica\n",
      "148           6.2          3.4           5.4          2.3   Iris-virginica\n",
      "149           5.9          3.0           5.1          1.8   Iris-virginica\n",
      "\n",
      "[100 rows x 5 columns]\n"
     ]
    }
   ],
   "source": [
    "#using Pandas DataFrame query method\n",
    "# Filter rows with Petal Length > 2\n",
    "filtered_iris = iris_data.query(\"petal_length > 2\")\n",
    "\n",
    "print(filtered_iris)\n"
   ]
  },
  {
   "cell_type": "code",
   "execution_count": 23,
   "metadata": {},
   "outputs": [
    {
     "name": "stdout",
     "output_type": "stream",
     "text": [
      "     sepal_length  sepal_width  petal_length  petal_width           target\n",
      "8             4.4          2.9           1.4          0.2      Iris-setosa\n",
      "41            4.5          2.3           1.3          0.3      Iris-setosa\n",
      "53            5.5          2.3           4.0          1.3  Iris-versicolor\n",
      "54            6.5          2.8           4.6          1.5  Iris-versicolor\n",
      "55            5.7          2.8           4.5          1.3  Iris-versicolor\n",
      "57            4.9          2.4           3.3          1.0  Iris-versicolor\n",
      "58            6.6          2.9           4.6          1.3  Iris-versicolor\n",
      "59            5.2          2.7           3.9          1.4  Iris-versicolor\n",
      "60            5.0          2.0           3.5          1.0  Iris-versicolor\n",
      "62            6.0          2.2           4.0          1.0  Iris-versicolor\n",
      "63            6.1          2.9           4.7          1.4  Iris-versicolor\n",
      "64            5.6          2.9           3.6          1.3  Iris-versicolor\n",
      "67            5.8          2.7           4.1          1.0  Iris-versicolor\n",
      "68            6.2          2.2           4.5          1.5  Iris-versicolor\n",
      "69            5.6          2.5           3.9          1.1  Iris-versicolor\n",
      "71            6.1          2.8           4.0          1.3  Iris-versicolor\n",
      "72            6.3          2.5           4.9          1.5  Iris-versicolor\n",
      "73            6.1          2.8           4.7          1.2  Iris-versicolor\n",
      "74            6.4          2.9           4.3          1.3  Iris-versicolor\n",
      "76            6.8          2.8           4.8          1.4  Iris-versicolor\n",
      "78            6.0          2.9           4.5          1.5  Iris-versicolor\n",
      "79            5.7          2.6           3.5          1.0  Iris-versicolor\n",
      "80            5.5          2.4           3.8          1.1  Iris-versicolor\n",
      "81            5.5          2.4           3.7          1.0  Iris-versicolor\n",
      "82            5.8          2.7           3.9          1.2  Iris-versicolor\n",
      "83            6.0          2.7           5.1          1.6  Iris-versicolor\n",
      "87            6.3          2.3           4.4          1.3  Iris-versicolor\n",
      "89            5.5          2.5           4.0          1.3  Iris-versicolor\n",
      "90            5.5          2.6           4.4          1.2  Iris-versicolor\n",
      "92            5.8          2.6           4.0          1.2  Iris-versicolor\n",
      "93            5.0          2.3           3.3          1.0  Iris-versicolor\n",
      "94            5.6          2.7           4.2          1.3  Iris-versicolor\n",
      "96            5.7          2.9           4.2          1.3  Iris-versicolor\n",
      "97            6.2          2.9           4.3          1.3  Iris-versicolor\n",
      "98            5.1          2.5           3.0          1.1  Iris-versicolor\n",
      "99            5.7          2.8           4.1          1.3  Iris-versicolor\n",
      "101           5.8          2.7           5.1          1.9   Iris-virginica\n",
      "103           6.3          2.9           5.6          1.8   Iris-virginica\n",
      "106           4.9          2.5           4.5          1.7   Iris-virginica\n",
      "107           7.3          2.9           6.3          1.8   Iris-virginica\n",
      "108           6.7          2.5           5.8          1.8   Iris-virginica\n",
      "111           6.4          2.7           5.3          1.9   Iris-virginica\n",
      "113           5.7          2.5           5.0          2.0   Iris-virginica\n",
      "114           5.8          2.8           5.1          2.4   Iris-virginica\n",
      "118           7.7          2.6           6.9          2.3   Iris-virginica\n",
      "119           6.0          2.2           5.0          1.5   Iris-virginica\n",
      "121           5.6          2.8           4.9          2.0   Iris-virginica\n",
      "122           7.7          2.8           6.7          2.0   Iris-virginica\n",
      "123           6.3          2.7           4.9          1.8   Iris-virginica\n",
      "126           6.2          2.8           4.8          1.8   Iris-virginica\n",
      "128           6.4          2.8           5.6          2.1   Iris-virginica\n",
      "130           7.4          2.8           6.1          1.9   Iris-virginica\n",
      "132           6.4          2.8           5.6          2.2   Iris-virginica\n",
      "133           6.3          2.8           5.1          1.5   Iris-virginica\n",
      "134           6.1          2.6           5.6          1.4   Iris-virginica\n",
      "142           5.8          2.7           5.1          1.9   Iris-virginica\n",
      "146           6.3          2.5           5.0          1.9   Iris-virginica\n"
     ]
    }
   ],
   "source": [
    "# using Pandas DataFrame boolean indexing\n",
    "filtered_iris = iris_data[iris_data[\"sepal_width\"] < 3]\n",
    "\n",
    "print(filtered_iris)\n"
   ]
  },
  {
   "cell_type": "code",
   "execution_count": 25,
   "metadata": {},
   "outputs": [
    {
     "name": "stdout",
     "output_type": "stream",
     "text": [
      "[Pandas(Index=50, sepal_length=7.0, sepal_width=3.2, petal_length=4.7, petal_width=1.4, target='Iris-versicolor'), Pandas(Index=51, sepal_length=6.4, sepal_width=3.2, petal_length=4.5, petal_width=1.5, target='Iris-versicolor'), Pandas(Index=52, sepal_length=6.9, sepal_width=3.1, petal_length=4.9, petal_width=1.5, target='Iris-versicolor'), Pandas(Index=53, sepal_length=5.5, sepal_width=2.3, petal_length=4.0, petal_width=1.3, target='Iris-versicolor'), Pandas(Index=54, sepal_length=6.5, sepal_width=2.8, petal_length=4.6, petal_width=1.5, target='Iris-versicolor'), Pandas(Index=55, sepal_length=5.7, sepal_width=2.8, petal_length=4.5, petal_width=1.3, target='Iris-versicolor'), Pandas(Index=56, sepal_length=6.3, sepal_width=3.3, petal_length=4.7, petal_width=1.6, target='Iris-versicolor'), Pandas(Index=57, sepal_length=4.9, sepal_width=2.4, petal_length=3.3, petal_width=1.0, target='Iris-versicolor'), Pandas(Index=58, sepal_length=6.6, sepal_width=2.9, petal_length=4.6, petal_width=1.3, target='Iris-versicolor'), Pandas(Index=59, sepal_length=5.2, sepal_width=2.7, petal_length=3.9, petal_width=1.4, target='Iris-versicolor'), Pandas(Index=60, sepal_length=5.0, sepal_width=2.0, petal_length=3.5, petal_width=1.0, target='Iris-versicolor'), Pandas(Index=61, sepal_length=5.9, sepal_width=3.0, petal_length=4.2, petal_width=1.5, target='Iris-versicolor'), Pandas(Index=62, sepal_length=6.0, sepal_width=2.2, petal_length=4.0, petal_width=1.0, target='Iris-versicolor'), Pandas(Index=63, sepal_length=6.1, sepal_width=2.9, petal_length=4.7, petal_width=1.4, target='Iris-versicolor'), Pandas(Index=64, sepal_length=5.6, sepal_width=2.9, petal_length=3.6, petal_width=1.3, target='Iris-versicolor'), Pandas(Index=65, sepal_length=6.7, sepal_width=3.1, petal_length=4.4, petal_width=1.4, target='Iris-versicolor'), Pandas(Index=66, sepal_length=5.6, sepal_width=3.0, petal_length=4.5, petal_width=1.5, target='Iris-versicolor'), Pandas(Index=67, sepal_length=5.8, sepal_width=2.7, petal_length=4.1, petal_width=1.0, target='Iris-versicolor'), Pandas(Index=68, sepal_length=6.2, sepal_width=2.2, petal_length=4.5, petal_width=1.5, target='Iris-versicolor'), Pandas(Index=69, sepal_length=5.6, sepal_width=2.5, petal_length=3.9, petal_width=1.1, target='Iris-versicolor'), Pandas(Index=70, sepal_length=5.9, sepal_width=3.2, petal_length=4.8, petal_width=1.8, target='Iris-versicolor'), Pandas(Index=71, sepal_length=6.1, sepal_width=2.8, petal_length=4.0, petal_width=1.3, target='Iris-versicolor'), Pandas(Index=72, sepal_length=6.3, sepal_width=2.5, petal_length=4.9, petal_width=1.5, target='Iris-versicolor'), Pandas(Index=73, sepal_length=6.1, sepal_width=2.8, petal_length=4.7, petal_width=1.2, target='Iris-versicolor'), Pandas(Index=74, sepal_length=6.4, sepal_width=2.9, petal_length=4.3, petal_width=1.3, target='Iris-versicolor'), Pandas(Index=75, sepal_length=6.6, sepal_width=3.0, petal_length=4.4, petal_width=1.4, target='Iris-versicolor'), Pandas(Index=76, sepal_length=6.8, sepal_width=2.8, petal_length=4.8, petal_width=1.4, target='Iris-versicolor'), Pandas(Index=77, sepal_length=6.7, sepal_width=3.0, petal_length=5.0, petal_width=1.7, target='Iris-versicolor'), Pandas(Index=78, sepal_length=6.0, sepal_width=2.9, petal_length=4.5, petal_width=1.5, target='Iris-versicolor'), Pandas(Index=79, sepal_length=5.7, sepal_width=2.6, petal_length=3.5, petal_width=1.0, target='Iris-versicolor'), Pandas(Index=80, sepal_length=5.5, sepal_width=2.4, petal_length=3.8, petal_width=1.1, target='Iris-versicolor'), Pandas(Index=81, sepal_length=5.5, sepal_width=2.4, petal_length=3.7, petal_width=1.0, target='Iris-versicolor'), Pandas(Index=82, sepal_length=5.8, sepal_width=2.7, petal_length=3.9, petal_width=1.2, target='Iris-versicolor'), Pandas(Index=83, sepal_length=6.0, sepal_width=2.7, petal_length=5.1, petal_width=1.6, target='Iris-versicolor'), Pandas(Index=84, sepal_length=5.4, sepal_width=3.0, petal_length=4.5, petal_width=1.5, target='Iris-versicolor'), Pandas(Index=85, sepal_length=6.0, sepal_width=3.4, petal_length=4.5, petal_width=1.6, target='Iris-versicolor'), Pandas(Index=86, sepal_length=6.7, sepal_width=3.1, petal_length=4.7, petal_width=1.5, target='Iris-versicolor'), Pandas(Index=87, sepal_length=6.3, sepal_width=2.3, petal_length=4.4, petal_width=1.3, target='Iris-versicolor'), Pandas(Index=88, sepal_length=5.6, sepal_width=3.0, petal_length=4.1, petal_width=1.3, target='Iris-versicolor'), Pandas(Index=89, sepal_length=5.5, sepal_width=2.5, petal_length=4.0, petal_width=1.3, target='Iris-versicolor'), Pandas(Index=90, sepal_length=5.5, sepal_width=2.6, petal_length=4.4, petal_width=1.2, target='Iris-versicolor'), Pandas(Index=91, sepal_length=6.1, sepal_width=3.0, petal_length=4.6, petal_width=1.4, target='Iris-versicolor'), Pandas(Index=92, sepal_length=5.8, sepal_width=2.6, petal_length=4.0, petal_width=1.2, target='Iris-versicolor'), Pandas(Index=93, sepal_length=5.0, sepal_width=2.3, petal_length=3.3, petal_width=1.0, target='Iris-versicolor'), Pandas(Index=94, sepal_length=5.6, sepal_width=2.7, petal_length=4.2, petal_width=1.3, target='Iris-versicolor'), Pandas(Index=95, sepal_length=5.7, sepal_width=3.0, petal_length=4.2, petal_width=1.2, target='Iris-versicolor'), Pandas(Index=96, sepal_length=5.7, sepal_width=2.9, petal_length=4.2, petal_width=1.3, target='Iris-versicolor'), Pandas(Index=97, sepal_length=6.2, sepal_width=2.9, petal_length=4.3, petal_width=1.3, target='Iris-versicolor'), Pandas(Index=98, sepal_length=5.1, sepal_width=2.5, petal_length=3.0, petal_width=1.1, target='Iris-versicolor'), Pandas(Index=99, sepal_length=5.7, sepal_width=2.8, petal_length=4.1, petal_width=1.3, target='Iris-versicolor')]\n"
     ]
    }
   ],
   "source": [
    "#Using list comprehension\n",
    "filtered_iris = [row for row in iris_data.itertuples() if row[5] == \"Iris-versicolor\"]\n",
    "\n",
    "print(filtered_iris)\n"
   ]
  },
  {
   "cell_type": "markdown",
   "metadata": {},
   "source": [
    "Grouping and Aggregation"
   ]
  },
  {
   "cell_type": "code",
   "execution_count": 29,
   "metadata": {},
   "outputs": [
    {
     "name": "stdout",
     "output_type": "stream",
     "text": [
      "target\n",
      "Iris-setosa        1.464\n",
      "Iris-versicolor    4.260\n",
      "Iris-virginica     5.552\n",
      "Name: petal_length, dtype: float64\n"
     ]
    }
   ],
   "source": [
    "# Group by target and calculate mean petal length\n",
    "grouped_means = iris_data.groupby(\"target\")[\"petal_length\"].mean()\n",
    "\n",
    "print(grouped_means)\n"
   ]
  },
  {
   "cell_type": "code",
   "execution_count": 31,
   "metadata": {},
   "outputs": [
    {
     "name": "stdout",
     "output_type": "stream",
     "text": [
      "target\n",
      "Iris-setosa        3.4\n",
      "Iris-versicolor    2.8\n",
      "Iris-virginica     3.0\n",
      "Name: sepal_width, dtype: float64\n"
     ]
    }
   ],
   "source": [
    "# Calculate median target width for each group\n",
    "grouped_medians = iris_data.groupby(\"target\")[\"sepal_width\"].median()\n",
    "\n",
    "print(grouped_medians)\n"
   ]
  },
  {
   "cell_type": "code",
   "execution_count": 32,
   "metadata": {},
   "outputs": [
    {
     "name": "stdout",
     "output_type": "stream",
     "text": [
      "                  mean  median       std\n",
      "target                                  \n",
      "Iris-setosa      1.464    1.50  0.173511\n",
      "Iris-versicolor  4.260    4.35  0.469911\n",
      "Iris-virginica   5.552    5.55  0.551895\n"
     ]
    }
   ],
   "source": [
    "#Calculate on group data stat\n",
    "grouped_stats = iris_data.groupby(\"target\")[\"petal_length\"].agg([\"mean\", \"median\", \"std\"])\n",
    "\n",
    "print(grouped_stats)\n"
   ]
  },
  {
   "cell_type": "markdown",
   "metadata": {},
   "source": [
    "#Calculate diffrence using aggregate function in pandas\n",
    "\n"
   ]
  },
  {
   "cell_type": "code",
   "execution_count": 38,
   "metadata": {},
   "outputs": [
    {
     "name": "stdout",
     "output_type": "stream",
     "text": [
      "target             \n",
      "Iris-setosa     0     -3.7\n",
      "                1     -3.5\n",
      "                2     -3.4\n",
      "                3     -3.1\n",
      "                4     -3.6\n",
      "                      ... \n",
      "Iris-virginica  145   -1.5\n",
      "                146   -1.3\n",
      "                147   -1.3\n",
      "                148   -0.8\n",
      "                149   -0.8\n",
      "Length: 150, dtype: float64\n"
     ]
    },
    {
     "name": "stderr",
     "output_type": "stream",
     "text": [
      "C:\\temp\\ipykernel_19512\\591664597.py:1: DeprecationWarning: DataFrameGroupBy.apply operated on the grouping columns. This behavior is deprecated, and in a future version of pandas the grouping columns will be excluded from the operation. Either pass `include_groups=False` to exclude the groupings or explicitly select the grouping columns after groupby to silence this warning.\n",
      "  grouped_differences = iris_data.groupby(\"target\").apply(lambda group: group[\"petal_length\"] - group[\"sepal_length\"])\n"
     ]
    }
   ],
   "source": [
    "grouped_differences = iris_data.groupby(\"target\").apply(lambda group: group[\"petal_length\"] - group[\"sepal_length\"])\n",
    "\n",
    "print(grouped_differences)"
   ]
  },
  {
   "cell_type": "markdown",
   "metadata": {},
   "source": [
    "Correlation and analysis "
   ]
  },
  {
   "cell_type": "code",
   "execution_count": 39,
   "metadata": {},
   "outputs": [
    {
     "name": "stdout",
     "output_type": "stream",
     "text": [
      "                              petal_length  petal_width  sepal_length  \\\n",
      "target                                                                  \n",
      "Iris-setosa     petal_length      1.000000     0.306308      0.263874   \n",
      "                petal_width       0.306308     1.000000      0.279092   \n",
      "                sepal_length      0.263874     0.279092      1.000000   \n",
      "                sepal_width       0.176695     0.279973      0.746780   \n",
      "Iris-versicolor petal_length      1.000000     0.786668      0.754049   \n",
      "                petal_width       0.786668     1.000000      0.546461   \n",
      "                sepal_length      0.754049     0.546461      1.000000   \n",
      "                sepal_width       0.560522     0.663999      0.525911   \n",
      "Iris-virginica  petal_length      1.000000     0.322108      0.864225   \n",
      "                petal_width       0.322108     1.000000      0.281108   \n",
      "                sepal_length      0.864225     0.281108      1.000000   \n",
      "                sepal_width       0.401045     0.537728      0.457228   \n",
      "\n",
      "                              sepal_width  \n",
      "target                                     \n",
      "Iris-setosa     petal_length     0.176695  \n",
      "                petal_width      0.279973  \n",
      "                sepal_length     0.746780  \n",
      "                sepal_width      1.000000  \n",
      "Iris-versicolor petal_length     0.560522  \n",
      "                petal_width      0.663999  \n",
      "                sepal_length     0.525911  \n",
      "                sepal_width      1.000000  \n",
      "Iris-virginica  petal_length     0.401045  \n",
      "                petal_width      0.537728  \n",
      "                sepal_length     0.457228  \n",
      "                sepal_width      1.000000  \n"
     ]
    }
   ],
   "source": [
    "# Select numerical columns\n",
    "numerical_columns = [\"petal_length\", \"petal_width\", \"sepal_length\", \"sepal_width\"]\n",
    "\n",
    "# Calculate correlation matrix within each group\n",
    "group_correlations = iris_data.groupby(\"target\")[numerical_columns].corr()\n",
    "\n",
    "# Print the correlation matrix for each group\n",
    "print(group_correlations)"
   ]
  }
 ],
 "metadata": {
  "kernelspec": {
   "display_name": "Python 3",
   "language": "python",
   "name": "python3"
  },
  "language_info": {
   "codemirror_mode": {
    "name": "ipython",
    "version": 3
   },
   "file_extension": ".py",
   "mimetype": "text/x-python",
   "name": "python",
   "nbconvert_exporter": "python",
   "pygments_lexer": "ipython3",
   "version": "3.12.1"
  }
 },
 "nbformat": 4,
 "nbformat_minor": 2
}
